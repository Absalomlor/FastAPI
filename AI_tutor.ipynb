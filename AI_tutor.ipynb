{
 "cells": [
  {
   "cell_type": "code",
   "execution_count": null,
   "id": "e2cb13ff-816a-4fe5-b66f-80f344bc27c1",
   "metadata": {},
   "outputs": [],
   "source": [
    "# https://platform.openai.com/docs/libraries"
   ]
  },
  {
   "cell_type": "code",
   "execution_count": 1,
   "id": "0fd48cb4-9dd4-4230-a973-4903bd6e76f3",
   "metadata": {},
   "outputs": [
    {
     "name": "stdout",
     "output_type": "stream",
     "text": [
      "Requirement already satisfied: openai in c:\\users\\krasi\\appdata\\local\\programs\\python\\python312\\lib\\site-packages (1.51.2)\n",
      "Requirement already satisfied: anyio<5,>=3.5.0 in c:\\users\\krasi\\appdata\\local\\programs\\python\\python312\\lib\\site-packages (from openai) (4.4.0)\n",
      "Requirement already satisfied: distro<2,>=1.7.0 in c:\\users\\krasi\\appdata\\local\\programs\\python\\python312\\lib\\site-packages (from openai) (1.9.0)\n",
      "Requirement already satisfied: httpx<1,>=0.23.0 in c:\\users\\krasi\\appdata\\local\\programs\\python\\python312\\lib\\site-packages (from openai) (0.27.0)\n",
      "Requirement already satisfied: jiter<1,>=0.4.0 in c:\\users\\krasi\\appdata\\local\\programs\\python\\python312\\lib\\site-packages (from openai) (0.6.1)\n",
      "Requirement already satisfied: pydantic<3,>=1.9.0 in c:\\users\\krasi\\appdata\\local\\programs\\python\\python312\\lib\\site-packages (from openai) (2.8.2)\n",
      "Requirement already satisfied: sniffio in c:\\users\\krasi\\appdata\\local\\programs\\python\\python312\\lib\\site-packages (from openai) (1.3.1)\n",
      "Requirement already satisfied: tqdm>4 in c:\\users\\krasi\\appdata\\local\\programs\\python\\python312\\lib\\site-packages (from openai) (4.66.4)\n",
      "Requirement already satisfied: typing-extensions<5,>=4.11 in c:\\users\\krasi\\appdata\\local\\programs\\python\\python312\\lib\\site-packages (from openai) (4.12.2)\n",
      "Requirement already satisfied: idna>=2.8 in c:\\users\\krasi\\appdata\\local\\programs\\python\\python312\\lib\\site-packages (from anyio<5,>=3.5.0->openai) (3.7)\n",
      "Requirement already satisfied: certifi in c:\\users\\krasi\\appdata\\local\\programs\\python\\python312\\lib\\site-packages (from httpx<1,>=0.23.0->openai) (2024.6.2)\n",
      "Requirement already satisfied: httpcore==1.* in c:\\users\\krasi\\appdata\\local\\programs\\python\\python312\\lib\\site-packages (from httpx<1,>=0.23.0->openai) (1.0.5)\n",
      "Requirement already satisfied: h11<0.15,>=0.13 in c:\\users\\krasi\\appdata\\local\\programs\\python\\python312\\lib\\site-packages (from httpcore==1.*->httpx<1,>=0.23.0->openai) (0.14.0)\n",
      "Requirement already satisfied: annotated-types>=0.4.0 in c:\\users\\krasi\\appdata\\local\\programs\\python\\python312\\lib\\site-packages (from pydantic<3,>=1.9.0->openai) (0.7.0)\n",
      "Requirement already satisfied: pydantic-core==2.20.1 in c:\\users\\krasi\\appdata\\local\\programs\\python\\python312\\lib\\site-packages (from pydantic<3,>=1.9.0->openai) (2.20.1)\n",
      "Requirement already satisfied: colorama in c:\\users\\krasi\\appdata\\local\\programs\\python\\python312\\lib\\site-packages (from tqdm>4->openai) (0.4.6)\n",
      "Note: you may need to restart the kernel to use updated packages.\n"
     ]
    },
    {
     "name": "stderr",
     "output_type": "stream",
     "text": [
      "\n",
      "[notice] A new release of pip is available: 24.1.2 -> 24.3.1\n",
      "[notice] To update, run: python.exe -m pip install --upgrade pip\n"
     ]
    }
   ],
   "source": [
    "pip install openai"
   ]
  },
  {
   "cell_type": "code",
   "execution_count": 2,
   "id": "a6a802c5-51bd-481b-85b8-b4f69979ad66",
   "metadata": {},
   "outputs": [
    {
     "name": "stdout",
     "output_type": "stream",
     "text": [
      "Requirement already satisfied: python-dotenv in c:\\users\\krasi\\appdata\\local\\programs\\python\\python312\\lib\\site-packages (1.0.1)\n",
      "Note: you may need to restart the kernel to use updated packages.\n"
     ]
    },
    {
     "name": "stderr",
     "output_type": "stream",
     "text": [
      "\n",
      "[notice] A new release of pip is available: 24.1.2 -> 24.3.1\n",
      "[notice] To update, run: python.exe -m pip install --upgrade pip\n"
     ]
    }
   ],
   "source": [
    "pip install python-dotenv"
   ]
  },
  {
   "cell_type": "code",
   "execution_count": 3,
   "id": "31424fc9-ccbc-497d-bf46-d144a281ca14",
   "metadata": {},
   "outputs": [],
   "source": [
    "import gpt"
   ]
  },
  {
   "cell_type": "code",
   "execution_count": 4,
   "id": "9e6a0c5d-ef2e-4481-8d92-02357eb6caea",
   "metadata": {},
   "outputs": [
    {
     "name": "stdout",
     "output_type": "stream",
     "text": [
      "Certainly! Below is a prompt template for converting natural language queries into SQL statements, along with an example database schema. This template can be used to guide users in formulating their queries effectively.\n",
      "\n",
      "### Prompt Template for Text to SQL\n",
      "\n",
      "---\n",
      "\n",
      "**Database Schema:**\n",
      "\n",
      "1. **Students**\n",
      "   - `student_id` (INT, Primary Key)\n",
      "   - `first_name` (VARCHAR)\n",
      "   - `last_name` (VARCHAR)\n",
      "   - `date_of_birth` (DATE)\n",
      "   - `major` (VARCHAR)\n",
      "\n",
      "2. **Courses**\n",
      "   - `course_id` (INT, Primary Key)\n",
      "   - `course_name` (VARCHAR)\n",
      "   - `credits` (INT)\n",
      "\n",
      "3. **Enrollments**\n",
      "   - `enrollment_id` (INT, Primary Key)\n",
      "   - `student_id` (INT, Foreign Key)\n",
      "   - `course_id` (INT, Foreign Key)\n",
      "   - `enrollment_date` (DATE)\n",
      "\n",
      "---\n",
      "\n",
      "**Prompt Template:**\n",
      "\n",
      "```\n",
      "Given the following database schema, convert the natural language query into an SQL statement.\n",
      "\n",
      "**Database Schema:**\n",
      "1. Students (student_id, first_name, last_name, date_of_birth, major)\n",
      "2. Courses (course_id, course_name, credits)\n",
      "3. Enrollments (enrollment_id, student_id, course_id, enrollment_date)\n",
      "\n",
      "**Natural Language Query:**\n",
      "{Insert your query here}\n",
      "\n",
      "**SQL Statement:**\n",
      "```\n",
      "\n",
      "---\n",
      "\n",
      "### Example Usage\n",
      "\n",
      "**Natural Language Query:**\n",
      "\"List all students who are majoring in Computer Science.\"\n",
      "\n",
      "**SQL Statement:**\n",
      "```sql\n",
      "SELECT * FROM Students WHERE major = 'Computer Science';\n",
      "```\n",
      "\n",
      "---\n",
      "\n",
      "### Instructions for Use\n",
      "\n",
      "1. Replace `{Insert your query here}` with your natural language question.\n",
      "2. The SQL statement will be generated based on the provided schema and query.\n",
      "\n",
      "This template can be adapted to different database schemas by modifying the schema section accordingly.\n"
     ]
    }
   ],
   "source": [
    "prompt = \"\"\"Please design prompt template for text to sql with provide database schema\"\"\"\n",
    "\n",
    "generate_text = gpt.get_response(prompt)\n",
    "\n",
    "print(generate_text)"
   ]
  }
 ],
 "metadata": {
  "kernelspec": {
   "display_name": "Python 3",
   "language": "python",
   "name": "python3"
  },
  "language_info": {
   "codemirror_mode": {
    "name": "ipython",
    "version": 3
   },
   "file_extension": ".py",
   "mimetype": "text/x-python",
   "name": "python",
   "nbconvert_exporter": "python",
   "pygments_lexer": "ipython3",
   "version": "3.12.4"
  }
 },
 "nbformat": 4,
 "nbformat_minor": 5
}
